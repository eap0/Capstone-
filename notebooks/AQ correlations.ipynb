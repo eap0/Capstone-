{
 "cells": [
  {
   "cell_type": "markdown",
   "id": "e3b561c4",
   "metadata": {},
   "source": [
    "Creates corner plots of Air Quality variables with mortality and poverty variables. \n"
   ]
  },
  {
   "cell_type": "code",
   "execution_count": 7,
   "id": "58995f99",
   "metadata": {},
   "outputs": [],
   "source": [
    "###Edit this to your system\n",
    "homedir = \"/Users/ennesser.1//Documents/Erdos22/Capstone-/\""
   ]
  },
  {
   "cell_type": "code",
   "execution_count": 8,
   "id": "b7d26246",
   "metadata": {},
   "outputs": [],
   "source": [
    "from matplotlib import pyplot as plt\n",
    "import numpy as np\n",
    "import pandas as pd\n",
    "import os\n",
    "import corner"
   ]
  },
  {
   "cell_type": "code",
   "execution_count": 9,
   "id": "b61e3ebd",
   "metadata": {},
   "outputs": [],
   "source": [
    "def flatten_df(df, filter_by = {}, save_fn = None): \n",
    "    \n",
    "    sort_by = {'Gender Code' : None,\n",
    "               'Race' : None,\n",
    "               'Hispanic Origin' : None,\n",
    "               'Interval' : None,\n",
    "               'Age Group Code': None,\n",
    "               'State' : None}\n",
    "    county_level_cols = ['County','5_Year_Avg_Poverty_Estimate','Total 5yrAvg County Population',\n",
    "                         'Total 5yrAvg County Population','Total 5yrAvg County Deaths',\n",
    "                         'Total 5yrAvg State Population','Total 5yrAvg State Deaths',\n",
    "                         'Total 15yrAvg County Population','Total 15yrAvg County Deaths',\n",
    "                         'Total 15yrAvg State Population','Total 15yrAvg State Deaths','15_Year_Avg_Poverty_Estimate',\n",
    "                         'CO 2nd Max 1-hr', 'CO 2nd Max 8-hr','NO2 98th Percentile 1-hr', \n",
    "                         'NO2 Mean 1-hr', 'Ozone 2nd Max 1-hr', 'Ozone 4th Max 8-hr', \n",
    "                         'SO2 99th Percentile 1-hr', 'SO2 2nd Max 24-hr','SO2 Mean 1-hr', \n",
    "                         'PM2.5 98th Percentile 24-hr', 'PM2.5 Weighted Mean 24-hr', \n",
    "                         'PM10 2nd Max 24-hr', 'Lead Max 3-Mo Avg']\n",
    "    air_q_cols = ['CO 2nd Max 1-hr', 'CO 2nd Max 8-hr','NO2 98th Percentile 1-hr', \n",
    "                  'NO2 Mean 1-hr', 'Ozone 2nd Max 1-hr', 'Ozone 4th Max 8-hr', \n",
    "                  'SO2 99th Percentile 1-hr', 'SO2 2nd Max 24-hr','SO2 Mean 1-hr', \n",
    "                  'PM2.5 98th Percentile 24-hr', 'PM2.5 Weighted Mean 24-hr', \n",
    "                  'PM10 2nd Max 24-hr', 'Lead Max 3-Mo Avg']\n",
    "    \n",
    "    # Check for bad input\n",
    "    for key in filter_by.keys(): \n",
    "        if key not in sort_by: \n",
    "            print('Unrecognized key in filter_by dict.')\n",
    "            return\n",
    "    \n",
    "    for key in filter_by:\n",
    "        if filter_by[key] != None: sort_by[key] = filter_by[key]\n",
    "    \n",
    "    # Deal with interval issues\n",
    "    temp_df = df.copy(deep=True)\n",
    "    if sort_by['Interval'] != None: \n",
    "        num_years = 5\n",
    "        mask = np.asarray(temp_df['Interval']==sort_by['Interval'])\n",
    "        temp_df = temp_df.loc[mask]\n",
    "        \n",
    "    else: \n",
    "        num_years = 15\n",
    "        fips = np.unique(temp_df['FIPS'].astype(str))\n",
    "        for fip in fips:\n",
    "            temp = temp_df.loc[temp_df['FIPS']==fip]\n",
    "            all_ints,ind = np.unique(temp['Interval'],return_index=True)\n",
    "            for quant in air_q_cols:\n",
    "                mask = temp_df['FIPS'] == fip\n",
    "                temp_df.loc[mask,quant] = np.nanmean(temp.iloc[ind][quant])\n",
    "\n",
    "    # Remove all unnecesary data from the df\n",
    "    for key,val in sort_by.items():\n",
    "        if val == None: \n",
    "            temp_df = temp_df.drop(columns=key)\n",
    "        else:    \n",
    "            temp_df = temp_df.loc[np.asarray(temp_df[key]==val)]\n",
    "            \n",
    "    # Flatten remaining data points so that there are no repeated counties/FIPS\n",
    "    fips,ind = np.unique(temp_df['FIPS'].astype(str),return_index=True)\n",
    "    \n",
    "    ### Get values that are constant for different groups in the same county\n",
    "    county_levels = {}\n",
    "    for col in county_level_cols:\n",
    "        county_levels[col] = np.asarray(temp_df[col])[ind]\n",
    "        \n",
    "    ### Calculate the values that change with different groups in the same county\n",
    "    deaths = []\n",
    "    population = []\n",
    "    for fip in fips:\n",
    "        mask = np.asarray(temp_df['FIPS']==fip)\n",
    "        single_county_df = temp_df.loc[mask]\n",
    "        deaths.append(np.sum(single_county_df['Deaths']))\n",
    "        population.append(np.sum(single_county_df['Population']))\n",
    "    \n",
    "    ### Calculate deaths and population per year\n",
    "    deaths = np.asarray(deaths)/num_years\n",
    "    population = np.asarray(population)/num_years\n",
    "    \n",
    "    # Construct dataframe\n",
    "    flattened_df = pd.DataFrame(data={'FIPS': fips, 'Deaths': deaths, 'Population': population})\n",
    "    for col in county_level_cols:\n",
    "        if sort_by['Interval'] != None:\n",
    "            flattened_df[col] = county_levels[col]\n",
    "        elif ' 5yrAvg' not in col and '5_Year_Avg_Poverty_Estimate' != col:\n",
    "            flattened_df[col] = county_levels[col]\n",
    "    \n",
    "    # Save to CSV if necessary\n",
    "    if save_fn != None:\n",
    "        flattened_df.to_csv(save_fn)\n",
    "    \n",
    "    return flattened_df # dataframe with single row for each county containing deaths, population, poverty, and polution"
   ]
  },
  {
   "cell_type": "code",
   "execution_count": 10,
   "id": "a6f2ce25",
   "metadata": {},
   "outputs": [
    {
     "ename": "KeyboardInterrupt",
     "evalue": "",
     "output_type": "error",
     "traceback": [
      "\u001b[0;31m---------------------------------------------------------------------------\u001b[0m",
      "\u001b[0;31mKeyboardInterrupt\u001b[0m                         Traceback (most recent call last)",
      "Input \u001b[0;32mIn [10]\u001b[0m, in \u001b[0;36m<cell line: 3>\u001b[0;34m()\u001b[0m\n\u001b[1;32m      1\u001b[0m \u001b[38;5;66;03m###Flattens mortality data\u001b[39;00m\n\u001b[1;32m      2\u001b[0m mort \u001b[38;5;241m=\u001b[39m pd\u001b[38;5;241m.\u001b[39mread_csv(homedir \u001b[38;5;241m+\u001b[39m \u001b[38;5;124m'\u001b[39m\u001b[38;5;124mdata/mort_airq_poverty.csv\u001b[39m\u001b[38;5;124m'\u001b[39m,dtype\u001b[38;5;241m=\u001b[39m{\u001b[38;5;124m\"\u001b[39m\u001b[38;5;124mFIPS\u001b[39m\u001b[38;5;124m\"\u001b[39m: \u001b[38;5;28mstr\u001b[39m})\n\u001b[0;32m----> 3\u001b[0m mort_flattened \u001b[38;5;241m=\u001b[39m \u001b[43mflatten_df\u001b[49m\u001b[43m(\u001b[49m\u001b[43mmort\u001b[49m\u001b[43m,\u001b[49m\u001b[43m{\u001b[49m\u001b[38;5;124;43m'\u001b[39;49m\u001b[38;5;124;43mRace\u001b[39;49m\u001b[38;5;124;43m'\u001b[39;49m\u001b[43m:\u001b[49m\u001b[38;5;124;43m'\u001b[39;49m\u001b[38;5;124;43mWhite\u001b[39;49m\u001b[38;5;124;43m'\u001b[39;49m\u001b[43m,\u001b[49m\u001b[38;5;124;43m'\u001b[39;49m\u001b[38;5;124;43mInterval\u001b[39;49m\u001b[38;5;124;43m'\u001b[39;49m\u001b[43m:\u001b[49m\u001b[38;5;124;43m'\u001b[39;49m\u001b[38;5;124;43m2012-2016\u001b[39;49m\u001b[38;5;124;43m'\u001b[39;49m\u001b[43m}\u001b[49m\u001b[43m)\u001b[49m\n",
      "Input \u001b[0;32mIn [9]\u001b[0m, in \u001b[0;36mflatten_df\u001b[0;34m(df, filter_by, save_fn)\u001b[0m\n\u001b[1;32m     68\u001b[0m population \u001b[38;5;241m=\u001b[39m []\n\u001b[1;32m     69\u001b[0m \u001b[38;5;28;01mfor\u001b[39;00m fip \u001b[38;5;129;01min\u001b[39;00m fips:\n\u001b[0;32m---> 70\u001b[0m     mask \u001b[38;5;241m=\u001b[39m np\u001b[38;5;241m.\u001b[39masarray(\u001b[43mtemp_df\u001b[49m\u001b[43m[\u001b[49m\u001b[38;5;124;43m'\u001b[39;49m\u001b[38;5;124;43mFIPS\u001b[39;49m\u001b[38;5;124;43m'\u001b[39;49m\u001b[43m]\u001b[49m\u001b[38;5;241;43m==\u001b[39;49m\u001b[43mfip\u001b[49m)\n\u001b[1;32m     71\u001b[0m     single_county_df \u001b[38;5;241m=\u001b[39m temp_df\u001b[38;5;241m.\u001b[39mloc[mask]\n\u001b[1;32m     72\u001b[0m     deaths\u001b[38;5;241m.\u001b[39mappend(np\u001b[38;5;241m.\u001b[39msum(single_county_df[\u001b[38;5;124m'\u001b[39m\u001b[38;5;124mDeaths\u001b[39m\u001b[38;5;124m'\u001b[39m]))\n",
      "File \u001b[0;32m~/opt/anaconda3/lib/python3.9/site-packages/pandas/core/ops/common.py:70\u001b[0m, in \u001b[0;36m_unpack_zerodim_and_defer.<locals>.new_method\u001b[0;34m(self, other)\u001b[0m\n\u001b[1;32m     66\u001b[0m             \u001b[38;5;28;01mreturn\u001b[39;00m \u001b[38;5;28mNotImplemented\u001b[39m\n\u001b[1;32m     68\u001b[0m other \u001b[38;5;241m=\u001b[39m item_from_zerodim(other)\n\u001b[0;32m---> 70\u001b[0m \u001b[38;5;28;01mreturn\u001b[39;00m \u001b[43mmethod\u001b[49m\u001b[43m(\u001b[49m\u001b[38;5;28;43mself\u001b[39;49m\u001b[43m,\u001b[49m\u001b[43m \u001b[49m\u001b[43mother\u001b[49m\u001b[43m)\u001b[49m\n",
      "File \u001b[0;32m~/opt/anaconda3/lib/python3.9/site-packages/pandas/core/arraylike.py:40\u001b[0m, in \u001b[0;36mOpsMixin.__eq__\u001b[0;34m(self, other)\u001b[0m\n\u001b[1;32m     38\u001b[0m \u001b[38;5;129m@unpack_zerodim_and_defer\u001b[39m(\u001b[38;5;124m\"\u001b[39m\u001b[38;5;124m__eq__\u001b[39m\u001b[38;5;124m\"\u001b[39m)\n\u001b[1;32m     39\u001b[0m \u001b[38;5;28;01mdef\u001b[39;00m \u001b[38;5;21m__eq__\u001b[39m(\u001b[38;5;28mself\u001b[39m, other):\n\u001b[0;32m---> 40\u001b[0m     \u001b[38;5;28;01mreturn\u001b[39;00m \u001b[38;5;28;43mself\u001b[39;49m\u001b[38;5;241;43m.\u001b[39;49m\u001b[43m_cmp_method\u001b[49m\u001b[43m(\u001b[49m\u001b[43mother\u001b[49m\u001b[43m,\u001b[49m\u001b[43m \u001b[49m\u001b[43moperator\u001b[49m\u001b[38;5;241;43m.\u001b[39;49m\u001b[43meq\u001b[49m\u001b[43m)\u001b[49m\n",
      "File \u001b[0;32m~/opt/anaconda3/lib/python3.9/site-packages/pandas/core/series.py:5623\u001b[0m, in \u001b[0;36mSeries._cmp_method\u001b[0;34m(self, other, op)\u001b[0m\n\u001b[1;32m   5620\u001b[0m rvalues \u001b[38;5;241m=\u001b[39m extract_array(other, extract_numpy\u001b[38;5;241m=\u001b[39m\u001b[38;5;28;01mTrue\u001b[39;00m, extract_range\u001b[38;5;241m=\u001b[39m\u001b[38;5;28;01mTrue\u001b[39;00m)\n\u001b[1;32m   5622\u001b[0m \u001b[38;5;28;01mwith\u001b[39;00m np\u001b[38;5;241m.\u001b[39merrstate(\u001b[38;5;28mall\u001b[39m\u001b[38;5;241m=\u001b[39m\u001b[38;5;124m\"\u001b[39m\u001b[38;5;124mignore\u001b[39m\u001b[38;5;124m\"\u001b[39m):\n\u001b[0;32m-> 5623\u001b[0m     res_values \u001b[38;5;241m=\u001b[39m \u001b[43mops\u001b[49m\u001b[38;5;241;43m.\u001b[39;49m\u001b[43mcomparison_op\u001b[49m\u001b[43m(\u001b[49m\u001b[43mlvalues\u001b[49m\u001b[43m,\u001b[49m\u001b[43m \u001b[49m\u001b[43mrvalues\u001b[49m\u001b[43m,\u001b[49m\u001b[43m \u001b[49m\u001b[43mop\u001b[49m\u001b[43m)\u001b[49m\n\u001b[1;32m   5625\u001b[0m \u001b[38;5;28;01mreturn\u001b[39;00m \u001b[38;5;28mself\u001b[39m\u001b[38;5;241m.\u001b[39m_construct_result(res_values, name\u001b[38;5;241m=\u001b[39mres_name)\n",
      "File \u001b[0;32m~/opt/anaconda3/lib/python3.9/site-packages/pandas/core/ops/array_ops.py:283\u001b[0m, in \u001b[0;36mcomparison_op\u001b[0;34m(left, right, op)\u001b[0m\n\u001b[1;32m    280\u001b[0m     \u001b[38;5;28;01mreturn\u001b[39;00m invalid_comparison(lvalues, rvalues, op)\n\u001b[1;32m    282\u001b[0m \u001b[38;5;28;01melif\u001b[39;00m is_object_dtype(lvalues\u001b[38;5;241m.\u001b[39mdtype) \u001b[38;5;129;01mor\u001b[39;00m \u001b[38;5;28misinstance\u001b[39m(rvalues, \u001b[38;5;28mstr\u001b[39m):\n\u001b[0;32m--> 283\u001b[0m     res_values \u001b[38;5;241m=\u001b[39m \u001b[43mcomp_method_OBJECT_ARRAY\u001b[49m\u001b[43m(\u001b[49m\u001b[43mop\u001b[49m\u001b[43m,\u001b[49m\u001b[43m \u001b[49m\u001b[43mlvalues\u001b[49m\u001b[43m,\u001b[49m\u001b[43m \u001b[49m\u001b[43mrvalues\u001b[49m\u001b[43m)\u001b[49m\n\u001b[1;32m    285\u001b[0m \u001b[38;5;28;01melse\u001b[39;00m:\n\u001b[1;32m    286\u001b[0m     res_values \u001b[38;5;241m=\u001b[39m _na_arithmetic_op(lvalues, rvalues, op, is_cmp\u001b[38;5;241m=\u001b[39m\u001b[38;5;28;01mTrue\u001b[39;00m)\n",
      "File \u001b[0;32m~/opt/anaconda3/lib/python3.9/site-packages/pandas/core/ops/array_ops.py:73\u001b[0m, in \u001b[0;36mcomp_method_OBJECT_ARRAY\u001b[0;34m(op, x, y)\u001b[0m\n\u001b[1;32m     71\u001b[0m     result \u001b[38;5;241m=\u001b[39m libops\u001b[38;5;241m.\u001b[39mvec_compare(x\u001b[38;5;241m.\u001b[39mravel(), y\u001b[38;5;241m.\u001b[39mravel(), op)\n\u001b[1;32m     72\u001b[0m \u001b[38;5;28;01melse\u001b[39;00m:\n\u001b[0;32m---> 73\u001b[0m     result \u001b[38;5;241m=\u001b[39m \u001b[43mlibops\u001b[49m\u001b[38;5;241;43m.\u001b[39;49m\u001b[43mscalar_compare\u001b[49m\u001b[43m(\u001b[49m\u001b[43mx\u001b[49m\u001b[38;5;241;43m.\u001b[39;49m\u001b[43mravel\u001b[49m\u001b[43m(\u001b[49m\u001b[43m)\u001b[49m\u001b[43m,\u001b[49m\u001b[43m \u001b[49m\u001b[43my\u001b[49m\u001b[43m,\u001b[49m\u001b[43m \u001b[49m\u001b[43mop\u001b[49m\u001b[43m)\u001b[49m\n\u001b[1;32m     74\u001b[0m \u001b[38;5;28;01mreturn\u001b[39;00m result\u001b[38;5;241m.\u001b[39mreshape(x\u001b[38;5;241m.\u001b[39mshape)\n",
      "\u001b[0;31mKeyboardInterrupt\u001b[0m: "
     ]
    }
   ],
   "source": [
    "###Flattens mortality data\n",
    "#If you have an error, check that mort_airq_poverty.csv is unzipped.\n",
    "mort = pd.read_csv(homedir + 'data/mort_airq_poverty.csv',dtype={\"FIPS\": str})\n",
    "mort_flattened = flatten_df(mort,{'Race':'White','Interval':'2012-2016'})"
   ]
  },
  {
   "cell_type": "code",
   "execution_count": 5,
   "id": "511f10d6",
   "metadata": {},
   "outputs": [],
   "source": [
    "###Add rate columns to data\n",
    "mort_flattened.loc[:,'PovertyRate'] = mort_flattened.loc[:,'5_Year_Avg_Poverty_Estimate']/mort_flattened.loc[:,'Total 5yrAvg County Population']\n",
    "mort_flattened.loc[:,'DeathRate'] = (mort_flattened.loc[:,'Total 5yrAvg County Deaths']/mort_flattened.loc[:,'Total 5yrAvg County Population'])\n",
    "mort_flattened2 = mort_flattened[mort_flattened.PovertyRate<=1].reset_index(drop=True)\n",
    "mort_flattened_log = mort_flattened2[~((mort_flattened2.DeathRate==0) | (mort_flattened2.PovertyRate==0))]"
   ]
  },
  {
   "cell_type": "code",
   "execution_count": 1,
   "id": "777b67a9",
   "metadata": {},
   "outputs": [
    {
     "ename": "NameError",
     "evalue": "name 'mort_flattened_log' is not defined",
     "output_type": "error",
     "traceback": [
      "\u001b[0;31m---------------------------------------------------------------------------\u001b[0m",
      "\u001b[0;31mNameError\u001b[0m                                 Traceback (most recent call last)",
      "Input \u001b[0;32mIn [1]\u001b[0m, in \u001b[0;36m<cell line: 8>\u001b[0;34m()\u001b[0m\n\u001b[1;32m      5\u001b[0m \u001b[38;5;66;03m#Select the air quality variable you want\u001b[39;00m\n\u001b[1;32m      6\u001b[0m aqVar \u001b[38;5;241m=\u001b[39m annuals[\u001b[38;5;241m2\u001b[39m]\n\u001b[0;32m----> 8\u001b[0m povrate \u001b[38;5;241m=\u001b[39m \u001b[43mmort_flattened_log\u001b[49m[\u001b[38;5;124m'\u001b[39m\u001b[38;5;124mPovertyRate\u001b[39m\u001b[38;5;124m'\u001b[39m]\u001b[38;5;241m.\u001b[39mto_numpy()\n\u001b[1;32m      9\u001b[0m deathrate \u001b[38;5;241m=\u001b[39m mort_flattened_log[\u001b[38;5;124m'\u001b[39m\u001b[38;5;124mDeathRate\u001b[39m\u001b[38;5;124m'\u001b[39m]\u001b[38;5;241m.\u001b[39mto_numpy()\n\u001b[1;32m     10\u001b[0m totalpop \u001b[38;5;241m=\u001b[39m mort_flattened_log[\u001b[38;5;124m'\u001b[39m\u001b[38;5;124mTotal 5yrAvg County Population\u001b[39m\u001b[38;5;124m'\u001b[39m]\u001b[38;5;241m.\u001b[39mto_numpy()\n",
      "\u001b[0;31mNameError\u001b[0m: name 'mort_flattened_log' is not defined"
     ]
    }
   ],
   "source": [
    "###Makes the corner plots. Only one air quality variable should be selected at a time. Selecting more than one\n",
    "###will mask too much data.\n",
    "\n",
    "#Approximate annual averages of the six air quality \n",
    "annuals = ['CO 2nd Max 8-hr', 'NO2 Mean 1-hr', 'Ozone 4th Max 8-hr', 'SO2 Mean 1-hr', 'PM2.5 Weighted Mean 24-hr']\n",
    "\n",
    "#Select the air quality variable you want to look at\n",
    "aqVar = annuals[2]\n",
    "\n",
    "povrate = mort_flattened_log['PovertyRate'].to_numpy()\n",
    "deathrate = mort_flattened_log['DeathRate'].to_numpy()\n",
    "totalpop = mort_flattened_log['Total 5yrAvg County Population'].to_numpy()\n",
    "aqMean = mort_flattened_log[aqVar].to_numpy()\n",
    "#mask out counties that do not have a measurement for this variable.\n",
    "mask_aqNan = np.logical_not(np.isnan(aqMean))\n",
    "\n",
    "povrate = povrate[mask_aqNan]\n",
    "deathrate = deathrate[mask_aqNan]\n",
    "aqMean = aqMean[mask_aqNan]\n",
    "totalpop = totalpop[mask_aqNan]\n",
    "\n",
    "cordata = np.vstack([aqMean,povrate,np.log10(totalpop),deathrate])\n",
    "\n",
    "corner.corner(data=cordata.T, labels=[aqVar, 'Log PovertyRate','Total Log Population','Log DeathRate'])"
   ]
  }
 ],
 "metadata": {
  "kernelspec": {
   "display_name": "Python 3 (ipykernel)",
   "language": "python",
   "name": "python3"
  },
  "language_info": {
   "codemirror_mode": {
    "name": "ipython",
    "version": 3
   },
   "file_extension": ".py",
   "mimetype": "text/x-python",
   "name": "python",
   "nbconvert_exporter": "python",
   "pygments_lexer": "ipython3",
   "version": "3.9.12"
  }
 },
 "nbformat": 4,
 "nbformat_minor": 5
}
